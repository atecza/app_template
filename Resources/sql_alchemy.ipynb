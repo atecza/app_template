{
 "cells": [
  {
   "cell_type": "code",
   "execution_count": 26,
   "metadata": {},
   "outputs": [],
   "source": [
    "import sqlalchemy\n",
    "from sqlalchemy.ext.automap import automap_base\n",
    "from sqlalchemy.orm import Session\n",
    "from sqlalchemy import create_engine, func\n",
    "import psycopg2\n"
   ]
  },
  {
   "cell_type": "code",
   "execution_count": 27,
   "metadata": {},
   "outputs": [],
   "source": [
    "#dont forget to pip install dotenv: pip install python-dotenv\n",
    "from dotenv import load_dotenv\n",
    "import os "
   ]
  },
  {
   "cell_type": "code",
   "execution_count": 29,
   "metadata": {},
   "outputs": [],
   "source": [
    "#get the url for the heroku postgres database\n",
    "#this assumes you have a .env file that is in your gitignore\n",
    "load_dotenv()\n",
    "url = os.getenv('DATABASE_URL')"
   ]
  },
  {
   "cell_type": "code",
   "execution_count": 30,
   "metadata": {},
   "outputs": [],
   "source": [
    "engine = create_engine(f'{url}')"
   ]
  },
  {
   "cell_type": "markdown",
   "metadata": {},
   "source": [
    "## Create Tables"
   ]
  },
  {
   "cell_type": "code",
   "execution_count": 38,
   "metadata": {},
   "outputs": [],
   "source": [
    "from sqlalchemy import Column, Integer, String, Float, ForeignKey\n",
    "from sqlalchemy.orm import relationship\n",
    "from sqlalchemy.ext.declarative import declarative_base"
   ]
  },
  {
   "cell_type": "code",
   "execution_count": 39,
   "metadata": {},
   "outputs": [],
   "source": [
    "Base = declarative_base()"
   ]
  },
  {
   "cell_type": "code",
   "execution_count": 40,
   "metadata": {},
   "outputs": [],
   "source": [
    "class BaseballPlayer(Base):\n",
    "    __tablename__ = \"player\"\n",
    "    player_id = Column(String, primary_key=True)\n",
    "    birth_year = Column(Integer)\n",
    "    birth_month = Column(Integer)\n",
    "    birth_day = Column(Integer)\n",
    "    birth_country = Column(String)\n",
    "    birth_state = Column(String)\n",
    "    birth_city = Column(String)\n",
    "    name_first = Column(String)\n",
    "    name_last = Column(String)\n",
    "    name_given = Column(String)\n",
    "    weight = Column(Integer)\n",
    "    height = Column(Integer)\n",
    "    bats = Column(String)\n",
    "    throws = Column(String)\n",
    "    debut = Column(String)\n",
    "    final_game = Column(String)"
   ]
  },
  {
   "cell_type": "markdown",
   "metadata": {},
   "source": [
    "### Create tables with foreign keys"
   ]
  },
  {
   "cell_type": "code",
   "execution_count": 41,
   "metadata": {},
   "outputs": [],
   "source": [
    "class Customer(Base):\n",
    "    __tablename__ = 'customer'\n",
    "    id = Column(Integer, primary_key=True)\n",
    "    name = Column(String)\n",
    "\n",
    "    billing_address_id = Column(Integer, ForeignKey(\"address.id\"))\n",
    "    \n",
    "    billing_address = relationship(\"Address\", foreign_keys=[billing_address_id])\n",
    "    \n",
    "\n",
    "class Address(Base):\n",
    "    __tablename__ = 'address'\n",
    "    id = Column(Integer, primary_key=True)\n",
    "    street = Column(String)\n",
    "    city = Column(String)\n",
    "    state = Column(String)\n",
    "    zip = Column(String)"
   ]
  },
  {
   "cell_type": "markdown",
   "metadata": {},
   "source": [
    "### Add the tables to the database"
   ]
  },
  {
   "cell_type": "code",
   "execution_count": 42,
   "metadata": {},
   "outputs": [],
   "source": [
    "Base.metadata.create_all(engine)"
   ]
  },
  {
   "cell_type": "markdown",
   "metadata": {},
   "source": [
    "## Add Data to SQL"
   ]
  },
  {
   "cell_type": "code",
   "execution_count": null,
   "metadata": {},
   "outputs": [],
   "source": [
    "#make sure all the df columns match perfectly with the way the table was created in sql\n",
    "df.to_sql('table_name', engine, index=False) #for very large dataframes, this may need to be broken down into sections"
   ]
  },
  {
   "cell_type": "markdown",
   "metadata": {},
   "source": [
    "## Query Data"
   ]
  },
  {
   "cell_type": "code",
   "execution_count": null,
   "metadata": {},
   "outputs": [],
   "source": [
    "# reflect an existing database into a new model\n",
    "Base = automap_base()\n",
    "\n",
    "# reflect the tables\n",
    "Base.prepare(engine, reflect=True)"
   ]
  },
  {
   "cell_type": "code",
   "execution_count": null,
   "metadata": {},
   "outputs": [],
   "source": [
    "#this will show the names of the tables you created\n",
    "Base.classes.keys()"
   ]
  },
  {
   "cell_type": "code",
   "execution_count": null,
   "metadata": {},
   "outputs": [],
   "source": [
    "#my table in pgadmin (postgres) is named envdata\n",
    "EnvironmentData = Base.classes.envdata"
   ]
  },
  {
   "cell_type": "code",
   "execution_count": null,
   "metadata": {},
   "outputs": [],
   "source": [
    "session = Session(engine)\n",
    "\n",
    "EData = session.query(EnvironmentData).all()"
   ]
  },
  {
   "cell_type": "code",
   "execution_count": null,
   "metadata": {},
   "outputs": [],
   "source": [
    "\n",
    "# Create our session (link) from Python to the DB\n",
    "session = Session(engine)\n",
    "\n",
    "EData = session.query(EnvironmentData).all()\n",
    "myData = []\n",
    "\n",
    "for x in EData:\n",
    "\n",
    "    fullEdata = {}\n",
    "\n",
    "    fullEdata = {\n",
    "        \"Country\": x.Country,\n",
    "        \"HDI\":x.HDI,\n",
    "        \"Footprint_Crop\":x.Footprint_Crop,\n",
    "        \"Footprint_Graze\":x.Footprint_Graze,\n",
    "        \"Footprint_Forest\":x.Footprint_Forest,\n",
    "        \"Footprint_Carbon\":x.Footprint_Carbon,\n",
    "        \"Footprint_Fish\":x.Footprint_Fish,\n",
    "        \"Footprint_Total\":x.Footprint_Total,\n",
    "        \"Land_Urban\":x.Land_Urban,\n",
    "        \"Emission_CO2\":x.Emissions_CO2,\n",
    "        \"BioCap\":x.Biocapacity_Total,\n",
    "        \"BioCap_RD\":x.BioCap_RD,\n",
    "        \"Data_Quality\":x.Data_Quality\n",
    "    }\n",
    "\n",
    "    myData.append(fullEdata)"
   ]
  },
  {
   "cell_type": "code",
   "execution_count": null,
   "metadata": {},
   "outputs": [],
   "source": [
    "myData"
   ]
  },
  {
   "cell_type": "code",
   "execution_count": null,
   "metadata": {},
   "outputs": [],
   "source": []
  }
 ],
 "metadata": {
  "kernelspec": {
   "display_name": "Python 3",
   "language": "python",
   "name": "python3"
  },
  "language_info": {
   "codemirror_mode": {
    "name": "ipython",
    "version": 3
   },
   "file_extension": ".py",
   "mimetype": "text/x-python",
   "name": "python",
   "nbconvert_exporter": "python",
   "pygments_lexer": "ipython3",
   "version": "3.6.13"
  }
 },
 "nbformat": 4,
 "nbformat_minor": 2
}
