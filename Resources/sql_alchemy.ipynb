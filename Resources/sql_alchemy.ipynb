{
 "cells": [
  {
   "cell_type": "code",
   "execution_count": null,
   "metadata": {},
   "outputs": [],
   "source": [
    "import sqlalchemy\n",
    "from sqlalchemy.ext.automap import automap_base\n",
    "from sqlalchemy.orm import Session\n",
    "from sqlalchemy import create_engine, func\n",
    "import psycopg2\n"
   ]
  },
  {
   "cell_type": "code",
   "execution_count": null,
   "metadata": {},
   "outputs": [],
   "source": [
    "#dont forget to pip install dotenv: pip install python-dotenv\n",
    "from dotenv import load_dotenv\n",
    "import os "
   ]
  },
  {
   "cell_type": "code",
   "execution_count": null,
   "metadata": {},
   "outputs": [],
   "source": [
    "#get the url for the heroku postgres database\n",
    "#this assumes you have a .env file that is in your gitignore\n",
    "load_dotenv()\n",
    "url = os.getenv('DATABASE_URL')\n",
    "print(url)"
   ]
  },
  {
   "cell_type": "code",
   "execution_count": null,
   "metadata": {},
   "outputs": [],
   "source": [
    "engine = create_engine(f'{url}')"
   ]
  },
  {
   "cell_type": "markdown",
   "metadata": {},
   "source": [
    "## Add Data to SQL"
   ]
  },
  {
   "cell_type": "code",
   "execution_count": null,
   "metadata": {},
   "outputs": [],
   "source": [
    "#make sure all the df columns match perfectly with the way the table was created in sql\n",
    "df.to_sql('table_name', engine, index=False) #for very large dataframes, this may need to be broken down into sections"
   ]
  },
  {
   "cell_type": "markdown",
   "metadata": {},
   "source": [
    "## Query Data"
   ]
  },
  {
   "cell_type": "code",
   "execution_count": null,
   "metadata": {},
   "outputs": [],
   "source": [
    "# reflect an existing database into a new model\n",
    "Base = automap_base()\n",
    "\n",
    "# reflect the tables\n",
    "Base.prepare(engine, reflect=True)"
   ]
  },
  {
   "cell_type": "code",
   "execution_count": null,
   "metadata": {},
   "outputs": [],
   "source": [
    "#this will show the names of the tables you created\n",
    "Base.classes.keys()"
   ]
  },
  {
   "cell_type": "code",
   "execution_count": null,
   "metadata": {},
   "outputs": [],
   "source": [
    "#my table in pgadmin (postgres) is named envdata\n",
    "EnvironmentData = Base.classes.envdata"
   ]
  },
  {
   "cell_type": "code",
   "execution_count": null,
   "metadata": {},
   "outputs": [],
   "source": [
    "session = Session(engine)\n",
    "\n",
    "EData = session.query(EnvironmentData).all()"
   ]
  },
  {
   "cell_type": "code",
   "execution_count": null,
   "metadata": {},
   "outputs": [],
   "source": [
    "\n",
    "# Create our session (link) from Python to the DB\n",
    "session = Session(engine)\n",
    "\n",
    "EData = session.query(EnvironmentData).all()\n",
    "myData = []\n",
    "\n",
    "for x in EData:\n",
    "\n",
    "    fullEdata = {}\n",
    "\n",
    "    fullEdata = {\n",
    "        \"Country\": x.Country,\n",
    "        \"HDI\":x.HDI,\n",
    "        \"Footprint_Crop\":x.Footprint_Crop,\n",
    "        \"Footprint_Graze\":x.Footprint_Graze,\n",
    "        \"Footprint_Forest\":x.Footprint_Forest,\n",
    "        \"Footprint_Carbon\":x.Footprint_Carbon,\n",
    "        \"Footprint_Fish\":x.Footprint_Fish,\n",
    "        \"Footprint_Total\":x.Footprint_Total,\n",
    "        \"Land_Urban\":x.Land_Urban,\n",
    "        \"Emission_CO2\":x.Emissions_CO2,\n",
    "        \"BioCap\":x.Biocapacity_Total,\n",
    "        \"BioCap_RD\":x.BioCap_RD,\n",
    "        \"Data_Quality\":x.Data_Quality\n",
    "    }\n",
    "\n",
    "    myData.append(fullEdata)"
   ]
  },
  {
   "cell_type": "code",
   "execution_count": null,
   "metadata": {},
   "outputs": [],
   "source": [
    "myData"
   ]
  },
  {
   "cell_type": "code",
   "execution_count": null,
   "metadata": {},
   "outputs": [],
   "source": []
  }
 ],
 "metadata": {
  "kernelspec": {
   "display_name": "Python 3",
   "language": "python",
   "name": "python3"
  },
  "language_info": {
   "codemirror_mode": {
    "name": "ipython",
    "version": 3
   },
   "file_extension": ".py",
   "mimetype": "text/x-python",
   "name": "python",
   "nbconvert_exporter": "python",
   "pygments_lexer": "ipython3",
   "version": "3.6.13"
  }
 },
 "nbformat": 4,
 "nbformat_minor": 2
}
